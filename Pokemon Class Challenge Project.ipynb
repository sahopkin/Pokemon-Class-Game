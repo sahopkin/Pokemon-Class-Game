{
 "cells": [
  {
   "cell_type": "code",
   "execution_count": 9,
   "metadata": {},
   "outputs": [],
   "source": [
    "class Pokemon:\n",
    "  def __init__(self, name, kind, level, exp=0):\n",
    "    self.name = name  #string\n",
    "    self.level = level  #int\n",
    "    ###for kw, arg in kwargs.items():\n",
    "       ### self.level = kwargs[kw]\n",
    "    self.kind = kind  #string\n",
    "    self.is_out = False  #boolean\n",
    "    self.max_health = self.level * 2\n",
    "    self.health = self.level * 2\n",
    "    self.exp = exp\n",
    "    self.stats = \"Name:  {name} \\nKind:  {kind} \\nLevel:  {level}\\nExperience:  {exp}\\nHealth:  {health}\\n\".format(name=self.name, kind=self.kind, level=str(self.level), health=str(self.health), exp=str(self.exp))\n",
    "  \n",
    "  def __repr__(self):\n",
    "    return self.stats\n",
    "\n",
    "  def stats(self):\n",
    "    return self.stats\n",
    "\n",
    "  def knock_out(self):\n",
    "    self.is_out = True\n",
    "    if self.health != 0:\n",
    "      self.health = 0\n",
    "    return \"{} is knocked out...\\n\".format(self.name)\n",
    "\n",
    "  def revival(self):\n",
    "    self.is_out = False\n",
    "    if self.health <= 0:\n",
    "      self.health = 1\n",
    "    return \"{} has been revived and has {} health.\\n\".format(self.name, str(self.health))\n",
    "\n",
    "  def lose_health(self, hit):  #hit is an int\n",
    "    self.health -= hit\n",
    "    if self.health <= 0:\n",
    "      self.health = 0\n",
    "      return self.knock_out()\n",
    "    else:\n",
    "      return \"{} took a hit and now has {} health.\\n\".format(self.name, str(self.health))\n",
    "\n",
    "  def gain_health(self, med):  #med is an int\n",
    "    self.health += med\n",
    "    return\"{} now has {} health!\\n\".format(self.name, str(self.health))\n",
    " \n",
    "  def attack(self, opponent):  #opponent is a Pokemon object\n",
    "    self.opponent = opponent\n",
    "    \n",
    "    attack_hits = {'Fire':[0.5, 0.5, 2.0], 'Water':[2.0, 0.5, 0.5], 'Grass':[0.5, 2.0, 0.5]}\n",
    "    #fire = 0 index of each value list above\n",
    "    #water = 1 index of each value list above\n",
    "    #grass = 2 index of each value list above\n",
    "\n",
    "#looks in the dictionary above.  attack_hits[self.kind] selects the key of the attacker's kind.  The index value selects which of the 3 list items to multiply by (see comment above).  This value is multiplied by the attacker's level.  The opponent's health is decreased by the product of that result.\n",
    "    if self.is_out == True:\n",
    "      return \"{} is knocked out and can't attack...\".format(self.name) \n",
    "    elif self.opponent.kind == 'Fire': \n",
    "      fire_loss = self.opponent.lose_health(attack_hits[self.kind][0] * self.level)\n",
    "      return \"{} attacked {}.  \".format(self.name, self.opponent.name) + fire_loss\n",
    "\n",
    "    elif self.opponent.kind == 'Water':\n",
    "      water_loss = self.opponent.lose_health(attack_hits[self.kind][1] * self.level)\n",
    "      return \"{} attacked {}.  \".format(self.name, self.opponent.name) + water_loss\n",
    "\n",
    "    elif self.opponent.kind == 'Grass':\n",
    "      grass_loss = self.opponent.lose_health(attack_hits[self.kind][2] * self.level)\n",
    "      return \"{} attacked {}.  \".format(self.name, self.opponent.name) + grass_loss\n",
    "\n",
    "\n",
    "class Trainer:\n",
    "  def __init__(self, name, avail_pokes, potions, active_poke):\n",
    "    self.name = name  #string\n",
    "    self.avail_pokes = avail_pokes  #list of Pokemon objects\n",
    "    self.potions = potions  #string from a set of dictionary keys\n",
    "    self.active_poke = avail_pokes[active_poke]  #int based on index from avail_pokes\n",
    "    self.potion_keys = ''\n",
    "    for key,value in self.potions.items():\n",
    "      self.potion_keys += key + ': +' + str(value) + '   '\n",
    "    \n",
    "    self.poke_name_str = []\n",
    "    for poke in self.avail_pokes:\n",
    "      self.poke_name_str.append(poke.name)\n",
    "    \n",
    "\n",
    "  def __repr__(self):\n",
    "    return \"{tname} is in the game.  The Pokemons {tname} has at their command are {pokes}.\\n{tname} can heal with the following potions:  \\n{potions}\\n{tname} currently has {pname} fighting for them!!!  Here are the stats...\\n{pokemon}\\n\".format(tname = self.name, pname = self.active_poke.name, pokes = str(self.poke_name_str), potions = self.potion_keys, pokemon = self.active_poke)\n",
    "  \n",
    "  def use_potion(self, potion):  #key as a str\n",
    "    self.potion = potion\n",
    "    if self.potion in self.potions.keys():\n",
    "      self.active_poke.gain_health(self.potions.pop(potion))\n",
    "    \n",
    "      if self.active_poke.health > self.active_poke.max_health:\n",
    "        self.active_poke.health = self.active_poke.max_health\n",
    "      else:\n",
    "        self.active_poke.health\n",
    "    \n",
    "      return \"{tname} used the {potion} potion.  {pname}'s health is now {health}\\n\".format(tname = self.name, pname = str(self.active_poke.name), health = str(self.active_poke.health), potion = self.potion)\n",
    "  \n",
    "  def attack_opp(self, opponent):  #Trainer object\n",
    "    self.opponent = opponent\n",
    "\n",
    "    if self.active_poke.is_out == True:\n",
    "      return \"{tname} tried to attack {oname}, but {tname}'s Pokemon - {pname} - is knocked out!\\n\".format(tname = self.name, oname = self.opponent.name, pname = self.active_poke.name)\n",
    "    else:\n",
    "      self.damage = self.active_poke.attack(self.opponent.active_poke)\n",
    "      self.active_poke.exp += 1\n",
    "      if self.active_poke.exp != 0 and self.active_poke.exp % 5 == 0:\n",
    "        self.active_poke.level += 1\n",
    "        self.active_poke.max_health = self.active_poke.level * 2\n",
    "        self.active_poke.exp = 0\n",
    "        return \"{tname} attacked {oname} with {pname}.  {opoke} took a hit and now has {damage} health.\\n{pname} has leveled up!  {pname} is now a Level {level} Pokemon!\".format(tname=self.name, oname=self.opponent.name,pname=self.active_poke.name, level=str(self.active_poke.level), opoke = self.opponent.active_poke.name, damage = self.opponent.active_poke.health)\n",
    "      return \"{tname} attacked {oname} with {pname}.  {opoke} took a hit and now has {damage} health.\\n\".format(tname=self.name, oname=self.opponent.name, pname = self.active_poke.name, opoke = self.opponent.active_poke.name, damage = self.opponent.active_poke.health)\n",
    "     \n",
    "    \n",
    "  \n",
    "  def new_active_poke(self, new_poke):  #int index of pokemon obects list.\n",
    "    self.new_poke = new_poke\n",
    "    self.active_poke = self.avail_pokes[self.new_poke]\n",
    "    if self.active_poke.is_out == True:\n",
    "      return \"{pname} is knocked out!  You must choose a different Pokemon.\\n\".format(pname = self.active_poke.name)\n",
    "    else:\n",
    "      return \"{tname} switched to a new Pokemon.  They are now fighting with {pname} by their side.  Here are {pname}'s stats.\\n{pokemon}\\n\".format(tname=self.name, pname=self.active_poke.name, pokemon = self.active_poke)\n",
    "\n",
    "  def stats(self):\n",
    "    self.name = self.name\n",
    "    self.potions = self.potions\n",
    "    self.potion_keys = ''\n",
    "    for key,value in self.potions.items():\n",
    "      self.potion_keys += key + ': +' + str(value) + '   '\n",
    "    self.pname = self.active_poke.name\n",
    "    self.kind = self.active_poke.kind\n",
    "    self.level = self.active_poke.level\n",
    "    self.exp = self.active_poke.exp\n",
    "    self.health = self.active_poke.health\n",
    "    return \"{tname} is fighting with {pname} by their side.\\n{tname}'s current Pokemon stats are:\\nName:  {pname}\\nKind:  {kind}\\nLevel:  {level}\\nExperience:  {exp}\\nHealth:  {health}\\n{tname} has the following potions:\\n{potions}\\n\".format(tname=self.name, pname=self.pname, kind=self.kind, level=str(self.level), exp=str(self.exp), health=str(self.health), potions=self.potion_keys)\n",
    "\n",
    "#Pokemons (objects)\n",
    "practico = Pokemon('Practico', 'Water', 1)\n",
    "bad_guy = Pokemon('Bad Guy', 'Fire', 1)\n",
    "goober_smooch = Pokemon('Goober Smooch', 'Grass', 1)\n",
    "bumble_butt = Pokemon('Bumble Butt', 'Water', 2)\n",
    "hopalong = Pokemon('Hopalong', 'Fire', 2)\n",
    "gidgit = Pokemon('Gidgit', 'Grass', 2)\n",
    "nimbinoob = Pokemon('Nimbinoob', 'Water', 3)\n",
    "updog = Pokemon('Updog', 'Fire', 3)\n",
    "scrammisaur = Pokemon('Scrammisaur', 'Grass', 3)\n",
    "\n",
    "#potions\n",
    "potions = {'luck':3}\n",
    "potions2 = {'luck':3, 'magic':5}\n",
    "potions3 = {'luck':3, 'magic':5, 'love':7}\n",
    "\n",
    "#trainers (objects)\n",
    "trainer1 = Trainer('Scott', [practico, goober_smooch, bumble_butt, hopalong], potions3, 0)\n",
    "\n",
    "trainer2 = Trainer('Joe', [bad_guy, updog, gidgit, scrammisaur], potions, 0)\n",
    "\n",
    "\n"
   ]
  },
  {
   "cell_type": "code",
   "execution_count": 10,
   "metadata": {},
   "outputs": [
    {
     "name": "stdout",
     "output_type": "stream",
     "text": [
      "Name:  Practico \n",
      "Kind:  Water \n",
      "Level:  1\n",
      "Experience:  0\n",
      "Health:  2\n",
      "\n",
      "Name:  Bad Guy \n",
      "Kind:  Fire \n",
      "Level:  1\n",
      "Experience:  0\n",
      "Health:  2\n",
      "\n"
     ]
    }
   ],
   "source": [
    "print(trainer1.active_poke)\n",
    "print(trainer2.active_poke)"
   ]
  },
  {
   "cell_type": "code",
   "execution_count": 11,
   "metadata": {},
   "outputs": [
    {
     "name": "stdout",
     "output_type": "stream",
     "text": [
      "Scott attacked Joe with Practico.  Bad Guy took a hit and now has 0 health.\n",
      "\n"
     ]
    }
   ],
   "source": [
    "print(trainer1.attack_opp(trainer2))"
   ]
  },
  {
   "cell_type": "code",
   "execution_count": 12,
   "metadata": {},
   "outputs": [
    {
     "name": "stdout",
     "output_type": "stream",
     "text": [
      "Joe tried to attack Scott, but Joe's Pokemon - Bad Guy - is knocked out!\n",
      "\n"
     ]
    }
   ],
   "source": [
    "print(trainer2.attack_opp(trainer1))"
   ]
  },
  {
   "cell_type": "code",
   "execution_count": 13,
   "metadata": {},
   "outputs": [
    {
     "name": "stdout",
     "output_type": "stream",
     "text": [
      "Scott attacked Joe with Practico.  Bad Guy took a hit and now has 0 health.\n",
      "\n"
     ]
    }
   ],
   "source": [
    "print(trainer1.attack_opp(trainer2))"
   ]
  },
  {
   "cell_type": "code",
   "execution_count": 14,
   "metadata": {},
   "outputs": [
    {
     "name": "stdout",
     "output_type": "stream",
     "text": [
      "Scott attacked Joe with Practico.  Bad Guy took a hit and now has 0 health.\n",
      "\n"
     ]
    }
   ],
   "source": [
    "print(trainer1.attack_opp(trainer2))"
   ]
  },
  {
   "cell_type": "code",
   "execution_count": 15,
   "metadata": {},
   "outputs": [
    {
     "name": "stdout",
     "output_type": "stream",
     "text": [
      "Joe tried to attack Scott, but Joe's Pokemon - Bad Guy - is knocked out!\n",
      "\n"
     ]
    }
   ],
   "source": [
    "print(trainer2.attack_opp(trainer1))"
   ]
  },
  {
   "cell_type": "code",
   "execution_count": 16,
   "metadata": {},
   "outputs": [
    {
     "name": "stdout",
     "output_type": "stream",
     "text": [
      "Joe switched to a new Pokemon.  They are now fighting with Gidgit by their side.  Here are Gidgit's stats.\n",
      "Name:  Gidgit \n",
      "Kind:  Grass \n",
      "Level:  2\n",
      "Experience:  0\n",
      "Health:  4\n",
      "\n",
      "\n"
     ]
    }
   ],
   "source": [
    "print(trainer2.new_active_poke(2))"
   ]
  },
  {
   "cell_type": "code",
   "execution_count": 17,
   "metadata": {},
   "outputs": [
    {
     "name": "stdout",
     "output_type": "stream",
     "text": [
      "Scott attacked Joe with Practico.  Gidgit took a hit and now has 3.5 health.\n",
      "\n"
     ]
    }
   ],
   "source": [
    "print(trainer1.attack_opp(trainer2))"
   ]
  },
  {
   "cell_type": "code",
   "execution_count": 18,
   "metadata": {},
   "outputs": [
    {
     "name": "stdout",
     "output_type": "stream",
     "text": [
      "Scott attacked Joe with Practico.  Gidgit took a hit and now has 3.0 health.\n",
      "Practico has leveled up!  Practico is now a Level 2 Pokemon!\n"
     ]
    }
   ],
   "source": [
    "print(trainer1.attack_opp(trainer2))"
   ]
  },
  {
   "cell_type": "code",
   "execution_count": 19,
   "metadata": {},
   "outputs": [
    {
     "name": "stdout",
     "output_type": "stream",
     "text": [
      "Scott is fighting with Practico by their side.\n",
      "Scott's current Pokemon stats are:\n",
      "Name:  Practico\n",
      "Kind:  Water\n",
      "Level:  2\n",
      "Experience:  0\n",
      "Health:  2\n",
      "Scott has the following potions:\n",
      "luck: +3   magic: +5   love: +7   \n",
      "\n"
     ]
    }
   ],
   "source": [
    "print(trainer1.stats())"
   ]
  },
  {
   "cell_type": "code",
   "execution_count": 20,
   "metadata": {},
   "outputs": [
    {
     "name": "stdout",
     "output_type": "stream",
     "text": [
      "Scott used the luck potion.  Practico's health is now 4\n",
      "\n"
     ]
    }
   ],
   "source": [
    "print(trainer1.use_potion('luck'))"
   ]
  },
  {
   "cell_type": "code",
   "execution_count": 21,
   "metadata": {},
   "outputs": [
    {
     "name": "stdout",
     "output_type": "stream",
     "text": [
      "Scott is fighting with Practico by their side.\n",
      "Scott's current Pokemon stats are:\n",
      "Name:  Practico\n",
      "Kind:  Water\n",
      "Level:  2\n",
      "Experience:  0\n",
      "Health:  4\n",
      "Scott has the following potions:\n",
      "magic: +5   love: +7   \n",
      "\n"
     ]
    }
   ],
   "source": [
    "print(trainer1.stats())"
   ]
  },
  {
   "cell_type": "code",
   "execution_count": 26,
   "metadata": {},
   "outputs": [],
   "source": [
    "def play_game():\n",
    "    q = input(\"Do you want to pay a game?  Type Yes or No  \")\n",
    "    q = q.title()\n",
    "    if q == 'Yes':\n",
    "        return 'Play on!'\n",
    "    else:\n",
    "        return 'Fine, be a party pooper!'"
   ]
  },
  {
   "cell_type": "code",
   "execution_count": null,
   "metadata": {},
   "outputs": [],
   "source": [
    "play_game()"
   ]
  },
  {
   "cell_type": "code",
   "execution_count": null,
   "metadata": {},
   "outputs": [],
   "source": []
  }
 ],
 "metadata": {
  "kernelspec": {
   "display_name": "Python 3",
   "language": "python",
   "name": "python3"
  },
  "language_info": {
   "codemirror_mode": {
    "name": "ipython",
    "version": 3
   },
   "file_extension": ".py",
   "mimetype": "text/x-python",
   "name": "python",
   "nbconvert_exporter": "python",
   "pygments_lexer": "ipython3",
   "version": "3.7.9"
  }
 },
 "nbformat": 4,
 "nbformat_minor": 4
}
